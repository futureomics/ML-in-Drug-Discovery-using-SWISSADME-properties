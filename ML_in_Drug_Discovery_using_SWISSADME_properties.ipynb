{
  "nbformat": 4,
  "nbformat_minor": 0,
  "metadata": {
    "colab": {
      "provenance": []
    },
    "kernelspec": {
      "name": "python3",
      "display_name": "Python 3"
    },
    "language_info": {
      "name": "python"
    }
  },
  "cells": [
    {
      "cell_type": "markdown",
      "source": [
        "# **ML in Drug Discovery using SWISSADME properties**\n",
        "\n",
        "\n",
        "\n",
        "SWISSADME properties to build machine learning models for drug discovery is a great idea. SWISSADME gives you molecular descriptors and ADME (Absorption, Distribution, Metabolism, Excretion) properties—ideal features for predicting drug-likeness, activity, or toxicity\n",
        "https://www.youtube.com/@Bioinformatics_Made_Easy\n"
      ],
      "metadata": {
        "id": "0Oo92GXq5vuq"
      }
    },
    {
      "cell_type": "markdown",
      "source": [
        "**Here’s a step-by-step guide, including code, on how to:**\n",
        "\n",
        "Load SWISSADME data\n",
        "\n",
        "Preprocess\n",
        "\n",
        "Train multiple ML models\n",
        "\n",
        "Evaluate and compare them"
      ],
      "metadata": {
        "id": "PB-2x76r6Uyq"
      }
    },
    {
      "cell_type": "code",
      "execution_count": 1,
      "metadata": {
        "colab": {
          "base_uri": "https://localhost:8080/"
        },
        "id": "XqiYD-P85hJ4",
        "outputId": "a4d52211-9395-460c-b2cc-7d67eb4f6247"
      },
      "outputs": [
        {
          "output_type": "stream",
          "name": "stdout",
          "text": [
            "Requirement already satisfied: pandas in /usr/local/lib/python3.11/dist-packages (2.2.2)\n",
            "Requirement already satisfied: scikit-learn in /usr/local/lib/python3.11/dist-packages (1.6.1)\n",
            "Requirement already satisfied: seaborn in /usr/local/lib/python3.11/dist-packages (0.13.2)\n",
            "Requirement already satisfied: matplotlib in /usr/local/lib/python3.11/dist-packages (3.10.0)\n",
            "Requirement already satisfied: xgboost in /usr/local/lib/python3.11/dist-packages (2.1.4)\n",
            "Requirement already satisfied: numpy>=1.23.2 in /usr/local/lib/python3.11/dist-packages (from pandas) (2.0.2)\n",
            "Requirement already satisfied: python-dateutil>=2.8.2 in /usr/local/lib/python3.11/dist-packages (from pandas) (2.8.2)\n",
            "Requirement already satisfied: pytz>=2020.1 in /usr/local/lib/python3.11/dist-packages (from pandas) (2025.2)\n",
            "Requirement already satisfied: tzdata>=2022.7 in /usr/local/lib/python3.11/dist-packages (from pandas) (2025.2)\n",
            "Requirement already satisfied: scipy>=1.6.0 in /usr/local/lib/python3.11/dist-packages (from scikit-learn) (1.14.1)\n",
            "Requirement already satisfied: joblib>=1.2.0 in /usr/local/lib/python3.11/dist-packages (from scikit-learn) (1.4.2)\n",
            "Requirement already satisfied: threadpoolctl>=3.1.0 in /usr/local/lib/python3.11/dist-packages (from scikit-learn) (3.6.0)\n",
            "Requirement already satisfied: contourpy>=1.0.1 in /usr/local/lib/python3.11/dist-packages (from matplotlib) (1.3.1)\n",
            "Requirement already satisfied: cycler>=0.10 in /usr/local/lib/python3.11/dist-packages (from matplotlib) (0.12.1)\n",
            "Requirement already satisfied: fonttools>=4.22.0 in /usr/local/lib/python3.11/dist-packages (from matplotlib) (4.57.0)\n",
            "Requirement already satisfied: kiwisolver>=1.3.1 in /usr/local/lib/python3.11/dist-packages (from matplotlib) (1.4.8)\n",
            "Requirement already satisfied: packaging>=20.0 in /usr/local/lib/python3.11/dist-packages (from matplotlib) (24.2)\n",
            "Requirement already satisfied: pillow>=8 in /usr/local/lib/python3.11/dist-packages (from matplotlib) (11.1.0)\n",
            "Requirement already satisfied: pyparsing>=2.3.1 in /usr/local/lib/python3.11/dist-packages (from matplotlib) (3.2.3)\n",
            "Requirement already satisfied: nvidia-nccl-cu12 in /usr/local/lib/python3.11/dist-packages (from xgboost) (2.21.5)\n",
            "Requirement already satisfied: six>=1.5 in /usr/local/lib/python3.11/dist-packages (from python-dateutil>=2.8.2->pandas) (1.17.0)\n"
          ]
        }
      ],
      "source": [
        "#🔬 Step 1: Install Necessary Libraries\n",
        "!pip install pandas scikit-learn seaborn matplotlib xgboost"
      ]
    },
    {
      "cell_type": "code",
      "source": [
        "#🧪 Step 2: Load and Inspect SWISSADME Data\n",
        "#Assume you have a CSV file (swissadme_data.csv) with:\n",
        "\n",
        "#Features: physicochemical descriptors (like LogP, TPSA, molecular weight, etc.)\n",
        "\n",
        "#Target: e.g., Active (1 for active drug, 0 for inactive)\n",
        "\n",
        "import pandas as pd\n",
        "\n",
        "# Load dataset\n",
        "df = pd.read_csv(\"swissadme_1000.csv\")\n",
        "\n",
        "# Peek at the data\n",
        "print(df.head())\n",
        "print(df.info())\n"
      ],
      "metadata": {
        "colab": {
          "base_uri": "https://localhost:8080/"
        },
        "id": "BpC1wq286ufc",
        "outputId": "e5ff4b93-c60c-4119-874a-c3f3be87d631"
      },
      "execution_count": 2,
      "outputs": [
        {
          "output_type": "stream",
          "name": "stdout",
          "text": [
            "           MW      LogP       TPSA  NumHAcceptors  NumHDonors  RotatableBonds  \\\n",
            "0  374.835708  4.899355  61.496435              7           1               3   \n",
            "1  343.086785  4.424634  72.109627              5           0               0   \n",
            "2  382.384427  3.559630  59.151602              3           3               7   \n",
            "3  426.151493  2.853063  68.840769              7           2               8   \n",
            "4  338.292331  4.198223  37.127707              2           1               3   \n",
            "\n",
            "   GI_absorption  BioavailabilityScore  Active  \n",
            "0              0                  0.55       0  \n",
            "1              1                  0.55       1  \n",
            "2              1                  0.17       1  \n",
            "3              1                  0.55       1  \n",
            "4              0                  0.55       0  \n",
            "<class 'pandas.core.frame.DataFrame'>\n",
            "RangeIndex: 1000 entries, 0 to 999\n",
            "Data columns (total 9 columns):\n",
            " #   Column                Non-Null Count  Dtype  \n",
            "---  ------                --------------  -----  \n",
            " 0   MW                    1000 non-null   float64\n",
            " 1   LogP                  1000 non-null   float64\n",
            " 2   TPSA                  1000 non-null   float64\n",
            " 3   NumHAcceptors         1000 non-null   int64  \n",
            " 4   NumHDonors            1000 non-null   int64  \n",
            " 5   RotatableBonds        1000 non-null   int64  \n",
            " 6   GI_absorption         1000 non-null   int64  \n",
            " 7   BioavailabilityScore  1000 non-null   float64\n",
            " 8   Active                1000 non-null   int64  \n",
            "dtypes: float64(4), int64(5)\n",
            "memory usage: 70.4 KB\n",
            "None\n"
          ]
        }
      ]
    },
    {
      "cell_type": "code",
      "source": [
        "#🧹 Step 3: Data Preprocessing\n",
        "from sklearn.model_selection import train_test_split\n",
        "from sklearn.preprocessing import StandardScaler\n",
        "\n",
        "# Assume 'Active' is the target\n",
        "X = df.drop(columns=['Active'])\n",
        "y = df['Active']\n",
        "\n",
        "# Split into training/test sets\n",
        "X_train, X_test, y_train, y_test = train_test_split(X, y, test_size=0.2, random_state=42)\n",
        "\n",
        "# Normalize\n",
        "scaler = StandardScaler()\n",
        "X_train = scaler.fit_transform(X_train)\n",
        "X_test = scaler.transform(X_test)\n"
      ],
      "metadata": {
        "id": "U6rtXtF07DIe"
      },
      "execution_count": 3,
      "outputs": []
    },
    {
      "cell_type": "code",
      "source": [
        "#🤖 Step 4: Train Multiple ML Models\n",
        "#We'll compare: Logistic Regression, Random Forest, SVM, and XGBoost.\n",
        "\n",
        "from sklearn.linear_model import LogisticRegression\n",
        "from sklearn.ensemble import RandomForestClassifier\n",
        "from sklearn.svm import SVC\n",
        "from xgboost import XGBClassifier\n",
        "from sklearn.metrics import accuracy_score, classification_report, confusion_matrix\n",
        "\n",
        "# Define models\n",
        "models = {\n",
        "    \"Logistic Regression\": LogisticRegression(),\n",
        "    \"Random Forest\": RandomForestClassifier(),\n",
        "    \"SVM\": SVC(probability=True),\n",
        "    \"XGBoost\": XGBClassifier(use_label_encoder=False, eval_metric='logloss')\n",
        "}\n",
        "\n",
        "# Train and evaluate\n",
        "results = {}\n",
        "\n",
        "for name, model in models.items():\n",
        "    model.fit(X_train, y_train)\n",
        "    preds = model.predict(X_test)\n",
        "    acc = accuracy_score(y_test, preds)\n",
        "    results[name] = acc\n",
        "    print(f\"\\n{name} Accuracy: {acc:.2f}\")\n",
        "    print(classification_report(y_test, preds))\n"
      ],
      "metadata": {
        "colab": {
          "base_uri": "https://localhost:8080/"
        },
        "id": "qoaNA3AG7L3J",
        "outputId": "062bb494-e65e-429f-bcb8-61d16d473f2d"
      },
      "execution_count": 9,
      "outputs": [
        {
          "output_type": "stream",
          "name": "stdout",
          "text": [
            "\n",
            "Logistic Regression Accuracy: 0.49\n",
            "              precision    recall  f1-score   support\n",
            "\n",
            "           0       0.50      0.92      0.65       101\n",
            "           1       0.43      0.06      0.11        99\n",
            "\n",
            "    accuracy                           0.49       200\n",
            "   macro avg       0.46      0.49      0.38       200\n",
            "weighted avg       0.46      0.49      0.38       200\n",
            "\n",
            "\n",
            "Random Forest Accuracy: 0.48\n",
            "              precision    recall  f1-score   support\n",
            "\n",
            "           0       0.49      0.63      0.55       101\n",
            "           1       0.47      0.33      0.39        99\n",
            "\n",
            "    accuracy                           0.48       200\n",
            "   macro avg       0.48      0.48      0.47       200\n",
            "weighted avg       0.48      0.48      0.47       200\n",
            "\n",
            "\n",
            "SVM Accuracy: 0.52\n",
            "              precision    recall  f1-score   support\n",
            "\n",
            "           0       0.51      0.79      0.62       101\n",
            "           1       0.52      0.23      0.32        99\n",
            "\n",
            "    accuracy                           0.52       200\n",
            "   macro avg       0.52      0.51      0.47       200\n",
            "weighted avg       0.52      0.52      0.47       200\n",
            "\n"
          ]
        },
        {
          "output_type": "stream",
          "name": "stderr",
          "text": [
            "/usr/local/lib/python3.11/dist-packages/xgboost/core.py:158: UserWarning: [09:02:12] WARNING: /workspace/src/learner.cc:740: \n",
            "Parameters: { \"use_label_encoder\" } are not used.\n",
            "\n",
            "  warnings.warn(smsg, UserWarning)\n"
          ]
        },
        {
          "output_type": "stream",
          "name": "stdout",
          "text": [
            "\n",
            "XGBoost Accuracy: 0.53\n",
            "              precision    recall  f1-score   support\n",
            "\n",
            "           0       0.53      0.59      0.56       101\n",
            "           1       0.52      0.45      0.49        99\n",
            "\n",
            "    accuracy                           0.53       200\n",
            "   macro avg       0.52      0.52      0.52       200\n",
            "weighted avg       0.52      0.53      0.52       200\n",
            "\n"
          ]
        }
      ]
    },
    {
      "cell_type": "code",
      "source": [
        "#📊 Step 5: Visualize the Comparison\n",
        "\n",
        "import seaborn as sns\n",
        "import matplotlib.pyplot as plt\n",
        "\n",
        "# Plot accuracies\n",
        "model_names = list(results.keys())\n",
        "accuracies = list(results.values())\n",
        "\n",
        "sns.barplot(x=accuracies, y=model_names)\n",
        "plt.xlabel(\"Accuracy\")\n",
        "plt.title(\"Model Comparison on SWISSADME Features\")\n",
        "plt.show()\n"
      ],
      "metadata": {
        "colab": {
          "base_uri": "https://localhost:8080/",
          "height": 472
        },
        "id": "3Vc76dIF7UNM",
        "outputId": "9e8f6f61-92bb-432f-e7e3-d8ce9ccad58f"
      },
      "execution_count": 5,
      "outputs": [
        {
          "output_type": "display_data",
          "data": {
            "text/plain": [
              "<Figure size 640x480 with 1 Axes>"
            ],
            "image/png": "[encoded data removed]"
          },
          "metadata": {}
        }
      ]
    },
    {
      "cell_type": "code",
      "source": [
        "#Optional: Feature Importance (e.g., from Random Forest)\n",
        "\n",
        "importances = models[\"Random Forest\"].feature_importances_\n",
        "feat_importance = pd.Series(importances, index=X.columns).sort_values(ascending=False)\n",
        "feat_importance.plot(kind='barh', figsize=(10, 8), title=\"Feature Importances\")\n",
        "plt.gca().invert_yaxis()\n",
        "plt.show()"
      ],
      "metadata": {
        "colab": {
          "base_uri": "https://localhost:8080/",
          "height": 699
        },
        "id": "AvL95NHO7-g1",
        "outputId": "da44cb8f-5845-4455-a3c2-6c7dd2372cc1"
      },
      "execution_count": 10,
      "outputs": [
        {
          "output_type": "display_data",
          "data": {
            "text/plain": [
              "<Figure size 1000x800 with 1 Axes>"
            ],
            "image/png": "[encoded data removed]"
          },
          "metadata": {}
        }
      ]
    },
    {
      "cell_type": "markdown",
      "source": [
        "**Conclusion**\n",
        "\n",
        "You'll see the accuracy, precision, recall, and F1-score for each model.\n",
        "\n",
        "The bar plot helps compare model performance.\n",
        "\n",
        "Feature importance shows which SWISSADME properties influence prediction the most."
      ],
      "metadata": {
        "id": "Q-9zyPLH8KSY"
      }
    }
  ]
}